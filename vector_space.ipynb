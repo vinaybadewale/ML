{
 "cells": [
  {
   "cell_type": "code",
   "execution_count": 4,
   "metadata": {},
   "outputs": [],
   "source": [
    "import nltk\n",
    "from sklearn.feature_extraction.text import TfidfVectorizer\n",
    "from sklearn.metrics.pairwise import cosine_similarity\n"
   ]
  },
  {
   "cell_type": "code",
   "execution_count": 5,
   "metadata": {},
   "outputs": [],
   "source": [
    "# Sample documents\n",
    "documents = [\n",
    "    \"The quick brown fox jumps over the lazy dog.\",\n",
    "    \"A brown dog chased the fox.\",\n",
    "    \"The dog is lazy.\"]"
   ]
  },
  {
   "cell_type": "code",
   "execution_count": 7,
   "metadata": {},
   "outputs": [
    {
     "name": "stdout",
     "output_type": "stream",
     "text": [
      "Similarity: 0.57\n",
      "A brown dog chased the fox.\n",
      "\n",
      "Similarity: 0.38\n",
      "The quick brown fox jumps over the lazy dog.\n",
      "\n",
      "Similarity: 0.24\n",
      "The dog is lazy.\n",
      "\n"
     ]
    }
   ],
   "source": [
    "# Sample query\n",
    "query = \"brown dog\"\n",
    "\n",
    "# Step 1: Tokenize and preprocess the text\n",
    "# nltk.download('punkt')\n",
    "from nltk.tokenize import word_tokenize\n",
    "tokenized_documents = [word_tokenize(doc.lower()) for doc in documents]\n",
    "tokenized_query = word_tokenize(query.lower())\n",
    "\n",
    "# Step 2: Calculate TF-IDF\n",
    "# Convert tokenized documents to text\n",
    "preprocessed_documents = [' '.join(doc) for doc in tokenized_documents]\n",
    "preprocessed_query = ' '.join(tokenized_query)\n",
    "\n",
    "# Create a TF-IDF vectorizer\n",
    "tfidf_vectorizer = TfidfVectorizer()\n",
    "tfidf_matrix = tfidf_vectorizer.fit_transform(preprocessed_documents)\n",
    "\n",
    "# Transform the query into a TF-IDF vector\n",
    "query_vector = tfidf_vectorizer.transform([preprocessed_query])\n",
    "\n",
    "# Step 3: Calculate cosine similarity\n",
    "cosine_similarities = cosine_similarity(query_vector, tfidf_matrix)\n",
    "\n",
    "# Step 4: Rank documents by similarity\n",
    "results = [(documents[i], cosine_similarities[0][i]) for i in range(len(documents))]\n",
    "results.sort(key=lambda x: x[1], reverse=True)\n",
    "\n",
    "# Print the ranked documents\n",
    "for doc, similarity in results:\n",
    "    print(f\"Similarity: {similarity:.2f}\\n{doc}\\n\")"
   ]
  },
  {
   "cell_type": "code",
   "execution_count": null,
   "metadata": {},
   "outputs": [],
   "source": []
  }
 ],
 "metadata": {
  "kernelspec": {
   "display_name": "base",
   "language": "python",
   "name": "python3"
  },
  "language_info": {
   "codemirror_mode": {
    "name": "ipython",
    "version": 3
   },
   "file_extension": ".py",
   "mimetype": "text/x-python",
   "name": "python",
   "nbconvert_exporter": "python",
   "pygments_lexer": "ipython3",
   "version": "3.9.12"
  }
 },
 "nbformat": 4,
 "nbformat_minor": 2
}
